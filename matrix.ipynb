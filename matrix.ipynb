{
 "cells": [
  {
   "cell_type": "code",
   "execution_count": 1,
   "metadata": {},
   "outputs": [],
   "source": [
    "import numpy as np"
   ]
  },
  {
   "cell_type": "code",
   "execution_count": 2,
   "metadata": {},
   "outputs": [
    {
     "data": {
      "text/plain": [
       "array([[1, 2, 0, 0],\n",
       "       [3, 4, 0, 0],\n",
       "       [2, 4, 1, 2],\n",
       "       [6, 8, 3, 4]])"
      ]
     },
     "execution_count": 2,
     "metadata": {},
     "output_type": "execute_result"
    }
   ],
   "source": [
    "a=np.array([[1,0],[2,1]])\n",
    "a=a.repeat(2,axis=1).repeat(2,axis=0)\n",
    "b=np.array([[1,2],[3,4]])\n",
    "b=np.tile(b,(2,2))\n",
    "np.multiply(b,a)"
   ]
  },
  {
   "cell_type": "code",
   "execution_count": 6,
   "metadata": {},
   "outputs": [
    {
     "data": {
      "text/plain": [
       "array([[1, 1, 0, 0],\n",
       "       [1, 1, 0, 0],\n",
       "       [2, 2, 1, 1],\n",
       "       [2, 2, 1, 1]])"
      ]
     },
     "execution_count": 6,
     "metadata": {},
     "output_type": "execute_result"
    }
   ],
   "source": [
    "a"
   ]
  },
  {
   "cell_type": "code",
   "execution_count": 9,
   "metadata": {},
   "outputs": [
    {
     "data": {
      "text/plain": [
       "(16, 1)"
      ]
     },
     "execution_count": 9,
     "metadata": {},
     "output_type": "execute_result"
    }
   ],
   "source": [
    "a.reshape(16,1).shape"
   ]
  },
  {
   "cell_type": "code",
   "execution_count": 21,
   "metadata": {},
   "outputs": [
    {
     "data": {
      "text/plain": [
       "array([[1., 1., 0., 0., 0., 0.],\n",
       "       [1., 1., 0., 0., 0., 0.],\n",
       "       [1., 1., 0., 0., 0., 0.],\n",
       "       [2., 2., 1., 1., 0., 0.],\n",
       "       [2., 2., 1., 1., 0., 0.],\n",
       "       [2., 2., 1., 1., 0., 0.],\n",
       "       [3., 3., 2., 2., 1., 1.],\n",
       "       [3., 3., 2., 2., 1., 1.],\n",
       "       [3., 3., 2., 2., 1., 1.],\n",
       "       [4., 4., 3., 3., 2., 2.],\n",
       "       [4., 4., 3., 3., 2., 2.],\n",
       "       [4., 4., 3., 3., 2., 2.]])"
      ]
     },
     "execution_count": 21,
     "metadata": {},
     "output_type": "execute_result"
    }
   ],
   "source": [
    "p=4\n",
    "m=3\n",
    "su_=np.zeros((p,m))\n",
    "for i in range(p):\n",
    "    for j in range(m):\n",
    "        if (i>=j):\n",
    "            su_[i,j]=i+1-j \n",
    "su_=su_.repeat(2,axis=1).repeat(3,axis=0)\n",
    "su_"
   ]
  },
  {
   "cell_type": "code",
   "execution_count": 54,
   "metadata": {},
   "outputs": [
    {
     "data": {
      "text/plain": [
       "array([[3, 4, 3, 4, 3, 4, 3, 4]])"
      ]
     },
     "execution_count": 54,
     "metadata": {},
     "output_type": "execute_result"
    }
   ],
   "source": [
    "np.tile(np.array([3,4]),(1,p))"
   ]
  },
  {
   "cell_type": "code",
   "execution_count": 1,
   "metadata": {},
   "outputs": [],
   "source": [
    "import casadi"
   ]
  },
  {
   "cell_type": "code",
   "execution_count": 10,
   "metadata": {},
   "outputs": [
    {
     "name": "stderr",
     "output_type": "stream",
     "text": [
      "CasADi -  WARNING(\".../casadi/core/plugin_interface.hpp:322: Assertion \"handle!=nullptr\" failed:\n",
      "PluginInterface::load_plugin: Cannot load shared library 'libcasadi_conic_ipopt.dll': \n",
      "   (\n",
      "    Searched directories: 1. casadipath from GlobalOptions\n",
      "                          2. CASADIPATH env var\n",
      "                          3. PATH env var (Windows)\n",
      "                          4. LD_LIBRARY_PATH env var (Linux)\n",
      "                          5. DYLD_LIBRARY_PATH env var (osx)\n",
      "    A library may be 'not found' even if the file exists:\n",
      "          * library is not compatible (different compiler/bitness)\n",
      "          * the dependencies are not found\n",
      "   )\n",
      "  Tried 'e:\\ProgramFiles\\miniconda3\\lib\\site-packages\\casadi' :\n",
      "    Error code (WIN32): 126\n",
      "  Tried '' :\n",
      "    Error code (WIN32): 126\n",
      "  Tried '.' :\n",
      "    Error code (WIN32): 126\") [.../casadi/core/plugin_interface.hpp:171]\n"
     ]
    },
    {
     "ename": "RuntimeError",
     "evalue": ".../casadi/core/plugin_interface.hpp:417: Plugin 'ipopt' is not found.",
     "output_type": "error",
     "traceback": [
      "\u001b[1;31m---------------------------------------------------------------------------\u001b[0m",
      "\u001b[1;31mRuntimeError\u001b[0m                              Traceback (most recent call last)",
      "\u001b[1;32m~\\AppData\\Local\\Temp/ipykernel_2096/1249954951.py\u001b[0m in \u001b[0;36m<module>\u001b[1;34m\u001b[0m\n\u001b[0;32m      1\u001b[0m \u001b[0mx\u001b[0m \u001b[1;33m=\u001b[0m \u001b[0mcasadi\u001b[0m\u001b[1;33m.\u001b[0m\u001b[0mSX\u001b[0m\u001b[1;33m.\u001b[0m\u001b[0msym\u001b[0m\u001b[1;33m(\u001b[0m\u001b[1;34m'x'\u001b[0m\u001b[1;33m)\u001b[0m\u001b[1;33m;\u001b[0m \u001b[0my\u001b[0m \u001b[1;33m=\u001b[0m \u001b[0mcasadi\u001b[0m\u001b[1;33m.\u001b[0m\u001b[0mSX\u001b[0m\u001b[1;33m.\u001b[0m\u001b[0msym\u001b[0m\u001b[1;33m(\u001b[0m\u001b[1;34m'y'\u001b[0m\u001b[1;33m)\u001b[0m\u001b[1;33m\u001b[0m\u001b[1;33m\u001b[0m\u001b[0m\n\u001b[0;32m      2\u001b[0m \u001b[0mqp\u001b[0m \u001b[1;33m=\u001b[0m \u001b[1;33m{\u001b[0m\u001b[1;34m'x'\u001b[0m\u001b[1;33m:\u001b[0m\u001b[0mcasadi\u001b[0m\u001b[1;33m.\u001b[0m\u001b[0mvertcat\u001b[0m\u001b[1;33m(\u001b[0m\u001b[0mx\u001b[0m\u001b[1;33m,\u001b[0m\u001b[0my\u001b[0m\u001b[1;33m)\u001b[0m\u001b[1;33m,\u001b[0m \u001b[1;34m'f'\u001b[0m\u001b[1;33m:\u001b[0m\u001b[0mcasadi\u001b[0m\u001b[1;33m.\u001b[0m\u001b[0msin\u001b[0m\u001b[1;33m(\u001b[0m\u001b[0mx\u001b[0m\u001b[1;33m)\u001b[0m\u001b[1;33m**\u001b[0m\u001b[1;36m2\u001b[0m\u001b[1;33m+\u001b[0m\u001b[0mcasadi\u001b[0m\u001b[1;33m.\u001b[0m\u001b[0msin\u001b[0m\u001b[1;33m(\u001b[0m\u001b[0my\u001b[0m\u001b[1;33m)\u001b[0m\u001b[1;33m**\u001b[0m\u001b[1;36m2\u001b[0m\u001b[1;33m,\u001b[0m \u001b[1;34m'g'\u001b[0m\u001b[1;33m:\u001b[0m\u001b[0mx\u001b[0m\u001b[1;33m+\u001b[0m\u001b[0my\u001b[0m\u001b[1;33m-\u001b[0m\u001b[1;36m10\u001b[0m\u001b[1;33m}\u001b[0m\u001b[1;33m\u001b[0m\u001b[1;33m\u001b[0m\u001b[0m\n\u001b[1;32m----> 3\u001b[1;33m \u001b[0mS\u001b[0m \u001b[1;33m=\u001b[0m \u001b[0mcasadi\u001b[0m\u001b[1;33m.\u001b[0m\u001b[0mqpsol\u001b[0m\u001b[1;33m(\u001b[0m\u001b[1;34m'S'\u001b[0m\u001b[1;33m,\u001b[0m \u001b[1;34m'ipopt'\u001b[0m\u001b[1;33m,\u001b[0m \u001b[0mqp\u001b[0m\u001b[1;33m)\u001b[0m\u001b[1;33m\u001b[0m\u001b[1;33m\u001b[0m\u001b[0m\n\u001b[0m\u001b[0;32m      4\u001b[0m \u001b[0mprint\u001b[0m\u001b[1;33m(\u001b[0m\u001b[0mS\u001b[0m\u001b[1;33m)\u001b[0m\u001b[1;33m\u001b[0m\u001b[1;33m\u001b[0m\u001b[0m\n\u001b[0;32m      5\u001b[0m \u001b[0mr\u001b[0m \u001b[1;33m=\u001b[0m \u001b[0mS\u001b[0m\u001b[1;33m(\u001b[0m\u001b[0mlbg\u001b[0m\u001b[1;33m=\u001b[0m\u001b[1;36m0\u001b[0m\u001b[1;33m)\u001b[0m\u001b[1;33m\u001b[0m\u001b[1;33m\u001b[0m\u001b[0m\n",
      "\u001b[1;32me:\\ProgramFiles\\miniconda3\\lib\\site-packages\\casadi\\casadi.py\u001b[0m in \u001b[0;36mqpsol\u001b[1;34m(*args)\u001b[0m\n\u001b[0;32m  15647\u001b[0m \u001b[1;33m\u001b[0m\u001b[0m\n\u001b[0;32m  15648\u001b[0m     \"\"\"\n\u001b[1;32m> 15649\u001b[1;33m     \u001b[1;32mreturn\u001b[0m \u001b[0m_casadi\u001b[0m\u001b[1;33m.\u001b[0m\u001b[0mqpsol\u001b[0m\u001b[1;33m(\u001b[0m\u001b[1;33m*\u001b[0m\u001b[0margs\u001b[0m\u001b[1;33m)\u001b[0m\u001b[1;33m\u001b[0m\u001b[1;33m\u001b[0m\u001b[0m\n\u001b[0m\u001b[0;32m  15650\u001b[0m \u001b[1;33m\u001b[0m\u001b[0m\n\u001b[0;32m  15651\u001b[0m \u001b[1;32mdef\u001b[0m \u001b[0mconic_in\u001b[0m\u001b[1;33m(\u001b[0m\u001b[1;33m*\u001b[0m\u001b[0margs\u001b[0m\u001b[1;33m)\u001b[0m\u001b[1;33m:\u001b[0m\u001b[1;33m\u001b[0m\u001b[1;33m\u001b[0m\u001b[0m\n",
      "\u001b[1;31mRuntimeError\u001b[0m: .../casadi/core/plugin_interface.hpp:417: Plugin 'ipopt' is not found."
     ]
    }
   ],
   "source": [
    "x = casadi.SX.sym('x'); y = casadi.SX.sym('y')\n",
    "qp = {'x':casadi.vertcat(x,y), 'f':casadi.sin(x)**2+casadi.sin(y)**2, 'g':x+y-10}\n",
    "S = casadi.qpsol('S', 'ipopt', qp)\n",
    "print(S)\n",
    "r = S(lbg=0)\n",
    "x_opt = r['x']\n",
    "print('x_opt: ', x_opt)"
   ]
  },
  {
   "cell_type": "code",
   "execution_count": 52,
   "metadata": {},
   "outputs": [
    {
     "name": "stdout",
     "output_type": "stream",
     "text": [
      "S:(h[2x2],g[2],a[1x2],lba,uba,lbx[2],ubx[2],x0[2],lam_x0[2],lam_a0,q[],p[])->(x[2],cost,lam_a,lam_x[2]) QpoasesInterface\n",
      "\n",
      "\n",
      "####################   qpOASES  --  QP NO.   1   #####################\n",
      "\n",
      "    Iter   |    StepLength    |       Info       |   nFX   |   nAC    \n",
      " ----------+------------------+------------------+---------+--------- \n",
      "       0   |   1.866661e-007   |   ADD CON    0   |     1   |     1   \n",
      "       1   |   1.333333e-008   |   REM BND    1   |     0   |     1   \n",
      "       2   |   1.000000e+000   |    QP SOLVED     |     0   |     1   \n",
      "x_opt:  [5, 5]\n"
     ]
    }
   ],
   "source": [
    "H = casadi.DM(np.eye(2))\n",
    "A = casadi.DM(np.ones((1,2)))\n",
    "g = casadi.DM(np.zeros(2))\n",
    "lba = 10.\n",
    "\n",
    "qp = {}\n",
    "qp['h'] = H.sparsity()\n",
    "qp['a'] = A.sparsity()\n",
    "S = casadi.conic('S','qpoases',qp)\n",
    "print(S)\n",
    "\n",
    "\n",
    "\n",
    "\n",
    "\n",
    "r = S(h=H, g=g, a=A, lba=lba)\n",
    "x_opt = r['x']\n",
    "print('x_opt: ', x_opt)"
   ]
  },
  {
   "cell_type": "code",
   "execution_count": 22,
   "metadata": {},
   "outputs": [
    {
     "name": "stdout",
     "output_type": "stream",
     "text": [
      "2 Var Declarations\n",
      "    x1 : Size=1, Index=None\n",
      "        Key  : Lower : Value : Upper : Fixed : Stale : Domain\n",
      "        None :  None :  None :  None : False :  True :  Reals\n",
      "    x2 : Size=1, Index=None\n",
      "        Key  : Lower : Value : Upper : Fixed : Stale : Domain\n",
      "        None :  None :  None :  None : False :  True :  Reals\n",
      "\n",
      "1 Objective Declarations\n",
      "    f : Size=1, Index=None, Active=True\n",
      "        Key  : Active : Sense    : Expression\n",
      "        None :   True : minimize : x1**2 + x2**2\n",
      "\n",
      "2 Constraint Declarations\n",
      "    c1 : Size=1, Index=None, Active=True\n",
      "        Key  : Lower : Body         : Upper : Active\n",
      "        None :  -Inf : - x1**2 + x2 :   0.0 :   True\n",
      "    ceq1 : Size=1, Index=None, Active=True\n",
      "        Key  : Lower : Body       : Upper : Active\n",
      "        None :   2.0 : x1 + x2**2 :   2.0 :   True\n",
      "\n",
      "5 Declarations: x1 x2 f c1 ceq1\n"
     ]
    }
   ],
   "source": [
    "from pyomo.environ import * \n",
    "# path = '~/Documents/ipopt/ipopt' # 这里的 path 指的就是刚刚 ipopt 执行文件的路径\n",
    "\n",
    "model = ConcreteModel() # 创建模型对象\n",
    "\n",
    "# define model variables\n",
    "# domain = Reals(Default) / NonNegativeReals Binary\n",
    "model.x1 = Var(domain=Reals)\n",
    "model.x2 = Var(domain=Reals)\n",
    "# define objective function\n",
    "# sense = minimize(Default) / maximize \n",
    "model.f = Objective(expr = model.x1**2 + model.x2**2, sense=minimize)\n",
    "# define constraints, equations or inequations \n",
    "model.c1 = Constraint(expr = -model.x1**2 + model.x2 <= 0)\n",
    "model.ceq1 = Constraint(expr = model.x1 + model.x2**2 == 2)\n",
    "# use 'pprint' to print the model information \n",
    "model.pprint()\n"
   ]
  },
  {
   "cell_type": "code",
   "execution_count": 23,
   "metadata": {},
   "outputs": [
    {
     "name": "stdout",
     "output_type": "stream",
     "text": [
      "# ==========================================================\n",
      "# = Solver Results                                         =\n",
      "# ==========================================================\n",
      "# ----------------------------------------------------------\n",
      "#   Problem Information\n",
      "# ----------------------------------------------------------\n",
      "Problem: \n",
      "- Lower bound: -inf\n",
      "  Upper bound: inf\n",
      "  Number of objectives: 1\n",
      "  Number of constraints: 2\n",
      "  Number of variables: 2\n",
      "  Sense: unknown\n",
      "# ----------------------------------------------------------\n",
      "#   Solver Information\n",
      "# ----------------------------------------------------------\n",
      "Solver: \n",
      "- Status: ok\n",
      "  Message: Ipopt 3.11.1\\x3a Optimal Solution Found\n",
      "  Termination condition: optimal\n",
      "  Id: 0\n",
      "  Error rc: 0\n",
      "  Time: 0.04690885543823242\n",
      "# ----------------------------------------------------------\n",
      "#   Solution Information\n",
      "# ----------------------------------------------------------\n",
      "Solution: \n",
      "- number of solutions: 0\n",
      "  number of solutions displayed: 0\n"
     ]
    }
   ],
   "source": [
    "SolverFactory('ipopt', executable=r'E:\\ProgramFiles\\Ipopt-3.11.1\\bin\\ipopt.exe').solve(model).write()\n"
   ]
  }
 ],
 "metadata": {
  "kernelspec": {
   "display_name": "base",
   "language": "python",
   "name": "python3"
  },
  "language_info": {
   "codemirror_mode": {
    "name": "ipython",
    "version": 3
   },
   "file_extension": ".py",
   "mimetype": "text/x-python",
   "name": "python",
   "nbconvert_exporter": "python",
   "pygments_lexer": "ipython3",
   "version": "3.9.5"
  },
  "orig_nbformat": 4
 },
 "nbformat": 4,
 "nbformat_minor": 2
}
