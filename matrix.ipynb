{
 "cells": [
  {
   "cell_type": "code",
   "execution_count": 1,
   "metadata": {},
   "outputs": [],
   "source": [
    "import numpy as np"
   ]
  },
  {
   "cell_type": "code",
   "execution_count": 2,
   "metadata": {},
   "outputs": [
    {
     "data": {
      "text/plain": [
       "array([[1, 2, 0, 0],\n",
       "       [3, 4, 0, 0],\n",
       "       [2, 4, 1, 2],\n",
       "       [6, 8, 3, 4]])"
      ]
     },
     "execution_count": 2,
     "metadata": {},
     "output_type": "execute_result"
    }
   ],
   "source": [
    "a=np.array([[1,0],[2,1]])\n",
    "a=a.repeat(2,axis=1).repeat(2,axis=0)\n",
    "b=np.array([[1,2],[3,4]])\n",
    "b=np.tile(b,(2,2))\n",
    "np.multiply(b,a)"
   ]
  },
  {
   "cell_type": "code",
   "execution_count": 6,
   "metadata": {},
   "outputs": [
    {
     "data": {
      "text/plain": [
       "array([[1, 1, 0, 0],\n",
       "       [1, 1, 0, 0],\n",
       "       [2, 2, 1, 1],\n",
       "       [2, 2, 1, 1]])"
      ]
     },
     "execution_count": 6,
     "metadata": {},
     "output_type": "execute_result"
    }
   ],
   "source": [
    "a"
   ]
  },
  {
   "cell_type": "code",
   "execution_count": 9,
   "metadata": {},
   "outputs": [
    {
     "data": {
      "text/plain": [
       "(16, 1)"
      ]
     },
     "execution_count": 9,
     "metadata": {},
     "output_type": "execute_result"
    }
   ],
   "source": [
    "a.reshape(16,1).shape"
   ]
  },
  {
   "cell_type": "code",
   "execution_count": 21,
   "metadata": {},
   "outputs": [
    {
     "data": {
      "text/plain": [
       "array([[1., 1., 0., 0., 0., 0.],\n",
       "       [1., 1., 0., 0., 0., 0.],\n",
       "       [1., 1., 0., 0., 0., 0.],\n",
       "       [2., 2., 1., 1., 0., 0.],\n",
       "       [2., 2., 1., 1., 0., 0.],\n",
       "       [2., 2., 1., 1., 0., 0.],\n",
       "       [3., 3., 2., 2., 1., 1.],\n",
       "       [3., 3., 2., 2., 1., 1.],\n",
       "       [3., 3., 2., 2., 1., 1.],\n",
       "       [4., 4., 3., 3., 2., 2.],\n",
       "       [4., 4., 3., 3., 2., 2.],\n",
       "       [4., 4., 3., 3., 2., 2.]])"
      ]
     },
     "execution_count": 21,
     "metadata": {},
     "output_type": "execute_result"
    }
   ],
   "source": [
    "p=4\n",
    "m=3\n",
    "su_=np.zeros((p,m))\n",
    "for i in range(p):\n",
    "    for j in range(m):\n",
    "        if (i>=j):\n",
    "            su_[i,j]=i+1-j \n",
    "su_=su_.repeat(2,axis=1).repeat(3,axis=0)\n",
    "su_"
   ]
  },
  {
   "cell_type": "code",
   "execution_count": 54,
   "metadata": {},
   "outputs": [
    {
     "data": {
      "text/plain": [
       "array([[3, 4, 3, 4, 3, 4, 3, 4]])"
      ]
     },
     "execution_count": 54,
     "metadata": {},
     "output_type": "execute_result"
    }
   ],
   "source": [
    "np.tile(np.array([3,4]),(1,p))"
   ]
  },
  {
   "cell_type": "code",
   "execution_count": 36,
   "metadata": {},
   "outputs": [],
   "source": [
    "import casadi"
   ]
  },
  {
   "cell_type": "code",
   "execution_count": 52,
   "metadata": {},
   "outputs": [
    {
     "name": "stdout",
     "output_type": "stream",
     "text": [
      "S:(h[2x2],g[2],a[1x2],lba,uba,lbx[2],ubx[2],x0[2],lam_x0[2],lam_a0,q[],p[])->(x[2],cost,lam_a,lam_x[2]) QpoasesInterface\n",
      "\n",
      "\n",
      "####################   qpOASES  --  QP NO.   1   #####################\n",
      "\n",
      "    Iter   |    StepLength    |       Info       |   nFX   |   nAC    \n",
      " ----------+------------------+------------------+---------+--------- \n",
      "       0   |   1.866661e-007   |   ADD CON    0   |     1   |     1   \n",
      "       1   |   1.333333e-008   |   REM BND    1   |     0   |     1   \n",
      "       2   |   1.000000e+000   |    QP SOLVED     |     0   |     1   \n",
      "x_opt:  [5, 5]\n"
     ]
    }
   ],
   "source": [
    "H = casadi.DM(np.eye(2))\n",
    "A = casadi.DM(np.ones((1,2)))\n",
    "g = casadi.DM(np.zeros(2))\n",
    "lba = 10.\n",
    "\n",
    "qp = {}\n",
    "qp['h'] = H.sparsity()\n",
    "qp['a'] = A.sparsity()\n",
    "S = casadi.conic('S','qpoases',qp)\n",
    "print(S)\n",
    "\n",
    "\n",
    "\n",
    "\n",
    "\n",
    "r = S(h=H, g=g, a=A, lba=lba)\n",
    "x_opt = r['x']\n",
    "print('x_opt: ', x_opt)"
   ]
  },
  {
   "cell_type": "code",
   "execution_count": 44,
   "metadata": {},
   "outputs": [
    {
     "data": {
      "text/plain": [
       "array([[1., 0.],\n",
       "       [0., 1.]])"
      ]
     },
     "execution_count": 44,
     "metadata": {},
     "output_type": "execute_result"
    }
   ],
   "source": [
    "H"
   ]
  }
 ],
 "metadata": {
  "kernelspec": {
   "display_name": "base",
   "language": "python",
   "name": "python3"
  },
  "language_info": {
   "codemirror_mode": {
    "name": "ipython",
    "version": 3
   },
   "file_extension": ".py",
   "mimetype": "text/x-python",
   "name": "python",
   "nbconvert_exporter": "python",
   "pygments_lexer": "ipython3",
   "version": "3.9.5"
  },
  "orig_nbformat": 4
 },
 "nbformat": 4,
 "nbformat_minor": 2
}
